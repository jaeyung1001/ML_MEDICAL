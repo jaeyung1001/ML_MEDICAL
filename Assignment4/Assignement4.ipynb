{
 "cells": [
  {
   "cell_type": "markdown",
   "metadata": {},
   "source": [
    "# Assignment 4\n",
    "- 2017572003 Jaeyung Lee\n",
    "- 2017572026 Juyeon Moon"
   ]
  },
  {
   "cell_type": "code",
   "execution_count": 1,
   "metadata": {},
   "outputs": [],
   "source": [
    "import os\n",
    "import matplotlib.pyplot as plt\n",
    "import numpy as np\n",
    "from detectors import *\n",
    "from gazeplotter import *\n",
    "from collections import defaultdict"
   ]
  },
  {
   "cell_type": "markdown",
   "metadata": {},
   "source": [
    "### Preprocessing the Data format"
   ]
  },
  {
   "cell_type": "code",
   "execution_count": 2,
   "metadata": {
    "collapsed": true
   },
   "outputs": [],
   "source": [
    "def preprocess(raw):\n",
    "    x = [] # x-coordinates\n",
    "    y = [] # y-coordinates\n",
    "    t = [] # timestamps\n",
    "    p = [] # pupil data\n",
    "    for i in np.arange(len(raw)):\n",
    "        currentLine = raw[i].replace('\\n','').replace('\\r','').replace(',',' ').split()\n",
    "        if (i==0):\n",
    "            startTime = float(currentLine[0])/1000\n",
    "\n",
    "        if float(currentLine[7])>0 and float(currentLine[20])>0:\n",
    "            x.append(((float(currentLine[7])+float(currentLine[20]))/2)*1280)\n",
    "        elif float(currentLine[7])>0:\n",
    "            x.append(float(currentLine[7])*1280)\n",
    "        elif float(currentLine[20])>0:\n",
    "            x.append(float(currentLine[20])*1280)\n",
    "        else:\n",
    "            x.append(float(currentLine[7]))\n",
    "\n",
    "        # join left eye and right eye data for y coordinates\n",
    "        if float(currentLine[8])>0 and float(currentLine[21])>0:\n",
    "            y.append(((float(currentLine[8])+float(currentLine[21]))/2)*1024)\n",
    "        elif float(currentLine[8])>0:\n",
    "            y.append(float(currentLine[8])*1024)\n",
    "        elif float(currentLine[21])>0:\n",
    "            y.append(float(currentLine[21])*1024)\n",
    "        else:\n",
    "            y.append(float(currentLine[8]))\n",
    "\n",
    "        # join left and right pupil size\n",
    "        if float(currentLine[12])>0 and float(currentLine[25])>0:\n",
    "            p.append(((float(currentLine[12])+float(currentLine[25]))/2))\n",
    "        elif float(currentLine[12])>0:\n",
    "            p.append(float(currentLine[12]))\n",
    "        elif float(currentLine[25])>0:\n",
    "            p.append(float(currentLine[25]))\n",
    "        else:\n",
    "            p.append(float(currentLine[12]))\n",
    "        t.append(float(currentLine[0])/1000-startTime)\n",
    "    return x,y,t,p"
   ]
  },
  {
   "cell_type": "markdown",
   "metadata": {},
   "source": [
    "### get pupil value function"
   ]
  },
  {
   "cell_type": "code",
   "execution_count": 3,
   "metadata": {
    "collapsed": true
   },
   "outputs": [],
   "source": [
    "def nan_helper(y):\n",
    "    \"\"\"Helper to handle indices and logical indices of NaNs.\n",
    "\n",
    "    Input:\n",
    "        - y, 1d numpy array with possible NaNs\n",
    "    Output:\n",
    "        - nans, logical indices of NaNs\n",
    "        - index, a function, with signature indices= index(logical_indices),\n",
    "          to convert logical indices of NaNs to 'equivalent' indices\n",
    "    \"\"\"\n",
    "\n",
    "    return np.isnan(y), lambda z: z.nonzero()[0]"
   ]
  },
  {
   "cell_type": "code",
   "execution_count": 4,
   "metadata": {
    "collapsed": true
   },
   "outputs": [],
   "source": [
    "def get_pupil(p):\n",
    "    p = np.array(p)\n",
    "    p[p<0] = np.nan\n",
    "    nans, pi = nan_helper(p)\n",
    "    p[nans] = np.interp(pi(nans), pi(~nans), p[~nans])\n",
    "    \n",
    "    return p"
   ]
  },
  {
   "cell_type": "markdown",
   "metadata": {},
   "source": [
    "### Need to get Variables\n",
    "- 1 Number of fixations\n",
    "- 2 Number of saccades\n",
    "- 3 Number of blinks\n",
    "- 4 Duration of fixations\n",
    "- 5 Duration of saccades\n",
    "- 6 Velocity of saccades\n",
    "- 7 Acceleration of saccades\n",
    "- 8 Average pupil size [calculated on non-missing data only of course]"
   ]
  },
  {
   "cell_type": "markdown",
   "metadata": {},
   "source": [
    "# get values for box-plot\n",
    "- return format: {1 : [each files value]}, 1 means Number of fixations, caculate above variables\n",
    "- and I found error in code which can not return correct value on my computer\n",
    "\n",
    "<img src=\"error1.jpg\">"
   ]
  },
  {
   "cell_type": "code",
   "execution_count": 5,
   "metadata": {
    "collapsed": true,
    "scrolled": false
   },
   "outputs": [],
   "source": [
    "dirname = \"data\"\n",
    "glass = defaultdict(lambda: [])\n",
    "no_glass = defaultdict(lambda: [])\n",
    "def result_function(test_dir):\n",
    "    diction = defaultdict(lambda: [])\n",
    "    full_path = dirname + \"\\\\\" + test_dir\n",
    "    filelist = os.listdir(full_path)\n",
    "    for file in filelist:\n",
    "        f = open(full_path+ \"\\\\\" + file, 'r')\n",
    "    #     while True:\n",
    "        # read file contents\n",
    "        print(\"Now Processing {}\".format(file))\n",
    "        raw = f.readlines()\n",
    "\n",
    "        #get necessary value\n",
    "        x,y,t,p = preprocess(raw)\n",
    "        \n",
    "        #Blink\n",
    "        missings, Sblk, Eblk, Ablk = blink_detection(x,y,t, missing=-1.0)\n",
    "\n",
    "        #Fixation\n",
    "        Sfix, Efix = fixation_detection(x,y,t, missing=-1.0)\n",
    "        \n",
    "#         #Saccades\n",
    "        Ssac, Esac = saccade_detection(x,y,t, missings, missing= -1.0)\n",
    "        \n",
    "        #Make Dictionary\n",
    "        #Number of fixations\n",
    "        diction[\"1\"].append(len(Efix))\n",
    "        \n",
    "        #Number of saccades\n",
    "        diction[\"2\"].append(len(Esac))\n",
    "        \n",
    "        #Number of blinks\n",
    "        diction[\"3\"].append(len(Sblk))\n",
    "        \n",
    "        #Duration of fixations\n",
    "        fixDurations = [item[2] for item in Efix]\n",
    "        diction[\"4\"].append(np.mean(fixDurations))\n",
    "        \n",
    "        #Duration of saccades & Velocity of saccades\n",
    "        sacDurations = [item[6] for item in Esac]\n",
    "        sacVelocities = [item[7] for item in Esac]\n",
    "        diction[\"5\"].append(np.mean(sacDurations))\n",
    "        diction[\"6\"].append(np.mean(sacVelocities))\n",
    "        \n",
    "        #Acceleration of saccades\n",
    "        diction[\"7\"].append(np.mean(Ssac))\n",
    "        \n",
    "        #Pupil\n",
    "        avg_p = get_pupil(p)\n",
    "        diction[\"8\"].append(np.mean(avg_p))\n",
    "        #file close\n",
    "        f.close()\n",
    "    return diction"
   ]
  },
  {
   "cell_type": "code",
   "execution_count": 6,
   "metadata": {
    "scrolled": true
   },
   "outputs": [
    {
     "name": "stdout",
     "output_type": "stream",
     "text": [
      "Now Processing participant006_slide001.txt\n",
      "Now Processing participant007_slide001.txt\n",
      "Now Processing participant008_slide001.txt\n",
      "Now Processing participant009_slide001.txt\n",
      "Now Processing participant010_slide001.txt\n",
      "Now Processing participant015_slide001.txt\n",
      "Now Processing participant017_slide001.txt\n",
      "Now Processing participant020_slide001.txt\n",
      "Now Processing participant023_slide001.txt\n",
      "Now Processing participant024_slide001.txt\n",
      "Now Processing participant025_slide001.txt\n",
      "Now Processing participant026_slide001.txt\n",
      "Now Processing participant027_slide001.txt\n",
      "Now Processing participant028_slide001.txt\n",
      "Now Processing participant031_slide001.txt\n",
      "Now Processing participant032_slide001.txt\n",
      "Now Processing participant001_slide001.txt\n",
      "Now Processing participant002_slide001.txt\n",
      "Now Processing participant003_slide001.txt\n",
      "Now Processing participant004_slide001.txt\n",
      "Now Processing participant005_slide001.txt\n",
      "Now Processing participant011_slide001.txt\n",
      "Now Processing participant012_slide001.txt\n",
      "Now Processing participant013_slide001.txt\n",
      "Now Processing participant014_slide001.txt\n",
      "Now Processing participant016_slide001.txt\n",
      "Now Processing participant018_slide001.txt\n",
      "Now Processing participant019_slide001.txt\n",
      "Now Processing participant021_slide001.txt\n",
      "Now Processing participant022_slide001.txt\n",
      "Now Processing participant029_slide001.txt\n",
      "Now Processing participant030_slide001.txt\n",
      "Now Processing participant033_slide001.txt\n",
      "Now Processing participant034_slide001.txt\n"
     ]
    }
   ],
   "source": [
    "glass = result_function(\"glass\")\n",
    "no_glass = result_function(\"noglass\")"
   ]
  },
  {
   "cell_type": "code",
   "execution_count": 7,
   "metadata": {},
   "outputs": [
    {
     "name": "stdout",
     "output_type": "stream",
     "text": [
      "8 [2.4630424835502289, 2.7288053164897144, 2.5395426702343697, 2.4811580305655121, 2.8091474314529519, 3.552548648779756, 2.9905223138597776, 2.5160842360022579, 2.8904073826046575, 2.3532844017152144, 2.8128934570750648, 2.54238291710343, 3.170543050039925, 2.5878462313105834, 3.0962505924555233, 2.6622588018351365] \n",
      "\n",
      "3 [52, 38, 95, 64, 32, 145, 27, 99, 49, 21, 45, 38, 82, 59, 29, 41] \n",
      "\n",
      "5 [480.57561600000002, 433.3905788717949, 450.55104, 444.24817066666668, 514.70274560000007, 612.08405333333337, 461.29026844444445, 478.74950981818171, 454.62396586666665, 517.19855542857135, 442.81710933333329, 562.79634707692298, 446.30476799999997, 506.50509784615383, 514.48317561904753, 554.40059733333339] \n",
      "\n",
      "6 [255.55970449165295, 293.34604856935596, 207.11168451286537, 253.78664500096178, 499.82234145001587, 168.90747428242267, 502.01076764382623, 351.87391902525758, 416.33133941269705, 258.07828546118958, 355.37693678552529, 464.03635697306549, 223.47499318714773, 380.01093079691867, 360.92770344774226, 445.38077323684337] \n",
      "\n",
      "7 [61930.963179154831, 65732.812070436121, 64476.965443224013, 66523.558099724265, 62022.809847445104, 58605.126992435777, 68625.562653459827, 61937.016155632176, 59048.445684970953, 60546.453941345215, 67148.042925434725, 63034.54998046875, 73250.393582589284, 64989.761609876477, 71630.843559570319, 68631.430374710646] \n",
      "\n",
      "4 [118.78422037760417, 102.39053033322705, 94.212877356487766, 119.8439909768156, 89.073813893687188, 70.786519368489579, 116.00165951094438, 72.833709716796875, 104.33454323718898, 107.59406176960699, 141.70640622904372, 123.48288871475799, 74.599536132812503, 103.12309689769687, 157.26479227228683, 117.2353515625] \n",
      "\n",
      "2 [12, 39, 6, 24, 5, 3, 9, 11, 30, 14, 18, 13, 2, 13, 21, 15] \n",
      "\n",
      "1 [432, 343, 92, 463, 199, 24, 454, 8, 422, 361, 466, 501, 50, 327, 516, 487] \n",
      "\n"
     ]
    }
   ],
   "source": [
    "for i in glass:\n",
    "    print(i, glass[i], \"\\n\")"
   ]
  },
  {
   "cell_type": "code",
   "execution_count": 8,
   "metadata": {},
   "outputs": [
    {
     "name": "stdout",
     "output_type": "stream",
     "text": [
      "8 [2.6735308733988186, 2.5281010064030256, 2.5632902889047551, 2.7385895732366796, 2.6059277303223016, 2.7893553808582063, 2.5524257588237247, 2.3647334461842457, 2.5310378909537401, 2.436294028929733, 2.5399467792819692, 3.0944975863902182, 2.9809235512739694, 2.5464091986128627, 2.3751925205263511, 2.8127984181887618, 2.2639669164235996, 2.3150363203477569] \n",
      "\n",
      "3 [61, 57, 35, 91, 76, 98, 68, 30, 60, 10, 35, 82, 30, 66, 91, 49, 27, 10] \n",
      "\n",
      "5 [504.19921919999996, 476.06087314285713, 489.54278399999998, 485.43685737931031, 421.74105600000001, 441.35545018181824, 446.36937309090899, 553.34920533333343, 456.60416000000004, 462.24733866666662, 444.99474773333327, 565.48164266666663, 378.98362092307696, 588.66850133333332, 453.84869647058827, 464.88795428571427, 446.83942400000001, 390.57796517647063] \n",
      "\n",
      "6 [302.07517025568188, 302.19992990585803, 442.92365951163163, 347.28598726179916, 645.27957190974871, 242.79447551483057, 244.89502837159051, 390.95616019627533, 387.76865822773163, 260.3783937497779, 331.16740316014256, 577.79211950835258, 294.16178606907573, 269.48378535799617, 239.22216016941323, 293.93650544846713, 380.15096455636126, 319.89488319413948] \n",
      "\n",
      "7 [62176.080857220819, 64332.885451543902, 61779.818256084734, 63658.246379624063, 81281.044941023283, 63115.967005178471, 64376.419324043469, 73688.926344651438, 66238.906665403454, 52058.948270909925, 67630.480998347353, 74109.753704071045, 62120.032248757103, 66104.57946099175, 58030.844015603536, 78337.13512122113, 60018.89956168241, 58682.603515625] \n",
      "\n",
      "4 [119.90319014273548, 135.11348760103743, 121.80772314453125, 137.62985906341197, 98.152847195263973, 110.97691176633322, 133.06501336348686, 123.73691460806565, 111.40665215802339, 96.806304670806625, 167.01932835906803, 99.242202266570061, 117.15434365260006, 83.265111328125002, 135.16078926786213, 99.599878031838387, 122.54810702690168, 135.18725535390786] \n",
      "\n",
      "2 [10, 28, 16, 29, 5, 11, 11, 12, 11, 6, 30, 6, 13, 6, 17, 7, 16, 17] \n",
      "\n",
      "1 [422, 491, 500, 514, 161, 353, 475, 358, 326, 351, 509, 248, 381, 125, 447, 239, 539, 483] \n",
      "\n"
     ]
    }
   ],
   "source": [
    "for i in no_glass:\n",
    "    print(i, no_glass[i], \"\\n\")"
   ]
  }
 ],
 "metadata": {
  "kernelspec": {
   "display_name": "Python 3",
   "language": "python",
   "name": "python3"
  },
  "language_info": {
   "codemirror_mode": {
    "name": "ipython",
    "version": 3
   },
   "file_extension": ".py",
   "mimetype": "text/x-python",
   "name": "python",
   "nbconvert_exporter": "python",
   "pygments_lexer": "ipython3",
   "version": "3.5.0"
  }
 },
 "nbformat": 4,
 "nbformat_minor": 2
}
