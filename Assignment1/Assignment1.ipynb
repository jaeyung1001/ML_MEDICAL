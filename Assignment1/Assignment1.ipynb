{
 "cells": [
  {
   "cell_type": "markdown",
   "metadata": {},
   "source": [
    "# Assignment 1 (2018-03-21)\n",
    " - The top 10 journals that published papers on this topic ==> Title\n",
    " - The top 10 authors ==> LastName, ForeName\n",
    " - A histogram of the number of papers published with 5-year intervals ==> years\n",
    " - The top 10 terms that appear in the\n",
    "    - a. Title of the paper\n",
    "    - b. Abstract of the paper"
   ]
  },
  {
   "cell_type": "code",
   "execution_count": 1,
   "metadata": {
    "collapsed": true
   },
   "outputs": [],
   "source": [
    "from bs4 import BeautifulSoup\n",
    "from collections import defaultdict\n",
    "from nltk.corpus import stopwords\n",
    "from nltk.tokenize import RegexpTokenizer\n",
    "import requests"
   ]
  },
  {
   "cell_type": "markdown",
   "metadata": {},
   "source": [
    "# Parsing data"
   ]
  },
  {
   "cell_type": "code",
   "execution_count": 2,
   "metadata": {},
   "outputs": [
    {
     "name": "stdout",
     "output_type": "stream",
     "text": [
      "1381\n",
      "Finished Add ID lists\n"
     ]
    }
   ],
   "source": [
    "# start = 1\n",
    "# fin = 100\n",
    "mindate = 1950\n",
    "maxdate = 2018  #Set Date\n",
    "term = \"(emotions)%20AND%20skin%20conductance\" # Set key words\n",
    "count_url = 'https://eutils.ncbi.nlm.nih.gov/entrez/eutils/esearch.fcgi?db=pubmed&retmode=xml&&term=%s&mindate=%s&maxdate=%s'%(term, mindate, maxdate)\n",
    "responses = requests.get(count_url)\n",
    "count_soup = BeautifulSoup(responses.content, \"lxml-xml\")\n",
    "counts = count_soup.findAll('Count')[0].contents[0]\n",
    "print(counts)  #first I counted all paper\n",
    "\n",
    "url = 'https://eutils.ncbi.nlm.nih.gov/entrez/eutils/esearch.fcgi?db=pubmed&retmode=xml&retmax=%s&term=%s&mindate=%s&maxdate=%s'%(counts, term, mindate, maxdate)\n",
    "responses = requests.get(url)\n",
    "soup = BeautifulSoup(responses.content, \"lxml-xml\")\n",
    "\n",
    "id_list = []\n",
    "\n",
    "for i in soup.findAll('Id'):\n",
    "    id_list.append(i.contents[0])\n",
    "    \n",
    "print(\"Finished Add ID lists\")"
   ]
  },
  {
   "cell_type": "markdown",
   "metadata": {},
   "source": [
    "## Test nltk library"
   ]
  },
  {
   "cell_type": "code",
   "execution_count": 3,
   "metadata": {},
   "outputs": [
    {
     "name": "stdout",
     "output_type": "stream",
     "text": [
      "Hello\n",
      "World\n",
      "One\n",
      "Hello\n",
      "Child\n",
      "World\n"
     ]
    }
   ],
   "source": [
    "zen = \"hello my world, we are one. hello my child, you are my world\"\n",
    "tokenizer = RegexpTokenizer(r'\\w+')\n",
    "zen_no_punc = tokenizer.tokenize(zen)\n",
    "for i in (w.title() for w in zen_no_punc if w.lower() not in stopwords.words()):\n",
    "    print(i)"
   ]
  },
  {
   "cell_type": "markdown",
   "metadata": {},
   "source": [
    "# Author, Year, Journal, Title, Abstract"
   ]
  },
  {
   "cell_type": "code",
   "execution_count": 4,
   "metadata": {
    "scrolled": true
   },
   "outputs": [
    {
     "name": "stdout",
     "output_type": "stream",
     "text": [
      "Finished!\n"
     ]
    }
   ],
   "source": [
    "name_list = []\n",
    "name = \"\"\n",
    "error_url = []\n",
    "\n",
    "# author, year, Journal, Title, Abstract count dictionary setting\n",
    "author = defaultdict(lambda: 0)\n",
    "year_count = defaultdict(lambda: 0)\n",
    "journal_count = defaultdict(lambda: 0)\n",
    "title_term = defaultdict(lambda: 0)\n",
    "abstract_term = defaultdict(lambda: 0)\n",
    "\n",
    "tokenizer = RegexpTokenizer(r'\\w+')\n",
    "\n",
    "here = 0\n",
    "\n",
    "for i in range(len(id_list)):\n",
    "    here += 1\n",
    "    \n",
    "    url_detail = 'https://eutils.ncbi.nlm.nih.gov/entrez/eutils/efetch.fcgi?&db=pubmed&retmode=xml&id=%d'%(int(id_list[i]))\n",
    "#     print(\"%d: %s\"%(here, url_detail))\n",
    "    \n",
    "    try:\n",
    "        detail_responses = requests.get(url_detail)\n",
    "        detail_soup = BeautifulSoup(detail_responses.content, 'lxml-xml')\n",
    "    except:\n",
    "        error_url.append(url_detail)\n",
    "    \n",
    "    '''\n",
    "    Gathering Author's LastName & ForeName\n",
    "    '''\n",
    "    try:\n",
    "        a = detail_soup.findAll(['LastName','ForeName'])\n",
    "        for i, j in enumerate(a):\n",
    "            if i%2 == 0:\n",
    "                name += j.contents[0]\n",
    "            else:\n",
    "                name += \" \" + j.contents[0]\n",
    "                author[name] += 1\n",
    "                name = \"\"\n",
    "    except:\n",
    "        pass\n",
    "\n",
    "    '''\n",
    "    Gathering Article Title Terms\n",
    "    '''\n",
    "    try:\n",
    "        zen = detail_soup.ArticleTitle.string\n",
    "        zen_no_punc = tokenizer.tokenize(zen)\n",
    "        for i in (w.title() for w in zen_no_punc if w.lower() not in stopwords.words()):\n",
    "            title_term[i] += 1\n",
    "    except:\n",
    "        pass\n",
    "    \n",
    "    '''\n",
    "    Gathering Abstract Terms\n",
    "    '''\n",
    "    try:\n",
    "        zen = detail_soup.AbstractText.string\n",
    "        zen_no_punc = tokenizer.tokenize(zen)\n",
    "        for i in (w.title() for w in zen_no_punc if w.lower() not in stopwords.words()):\n",
    "            abstract_term[i] += 1\n",
    "    except:\n",
    "        pass\n",
    "    \n",
    "    '''\n",
    "    Journal Count\n",
    "    '''\n",
    "    try:\n",
    "        journal_count[detail_soup.Title.string] += 1\n",
    "    except:\n",
    "        pass\n",
    "    \n",
    "    '''\n",
    "    Year Count\n",
    "    '''\n",
    "    try:\n",
    "        year_count[detail_soup.Year.string] += 1\n",
    "    except:\n",
    "        pass\n",
    "    \n",
    "print(\"Finished!\")"
   ]
  },
  {
   "cell_type": "markdown",
   "metadata": {},
   "source": [
    "## Top 10 Author\n",
    " - <strong>Rudolf Stark</strong>, <strong>Margaret M Bradley</strong>, <strong>Christian J Merz</strong> also counted 13"
   ]
  },
  {
   "cell_type": "code",
   "execution_count": 12,
   "metadata": {},
   "outputs": [
    {
     "name": "stdout",
     "output_type": "stream",
     "text": [
      "Milad Mohammed R 30\n",
      "Orr Scott P 30\n",
      "Pitman Roger K 20\n",
      "Rhudy Jamie L 15\n",
      "Kindt Merel 15\n",
      "Flor Herta 14\n",
      "Phelps Elizabeth A 14\n",
      "Pauli Paul 14\n",
      "Lang Peter J 13\n",
      "Dunsmoor Joseph E 13\n"
     ]
    }
   ],
   "source": [
    "s_author = [(k,author[k]) for k in sorted(author, key=author.get, reverse=True)]\n",
    "top = 0\n",
    "for k, v in s_author:\n",
    "    top += 1\n",
    "    print(k,v)\n",
    "    if(top == 10):\n",
    "        break\n",
    "     "
   ]
  },
  {
   "cell_type": "markdown",
   "metadata": {},
   "source": [
    "## Top 10 Journal"
   ]
  },
  {
   "cell_type": "code",
   "execution_count": 13,
   "metadata": {},
   "outputs": [
    {
     "name": "stdout",
     "output_type": "stream",
     "text": [
      "International journal of psychophysiology : official journal of the International Organization of Psychophysiology 88\n",
      "Psychophysiology 86\n",
      "Biological psychology 76\n",
      "PloS one 48\n",
      "Behaviour research and therapy 44\n",
      "Biological psychiatry 31\n",
      "Emotion (Washington, D.C.) 30\n",
      "Psychiatry research 23\n",
      "Psychopharmacology 22\n",
      "Journal of behavior therapy and experimental psychiatry 22\n"
     ]
    }
   ],
   "source": [
    "s_journal = [(k,journal_count[k]) for k in sorted(journal_count, key=journal_count.get, reverse=True)]\n",
    "top = 0\n",
    "for k, v in s_journal:\n",
    "    top += 1\n",
    "    print(k,v)\n",
    "    if(top == 10):\n",
    "        break"
   ]
  },
  {
   "cell_type": "markdown",
   "metadata": {},
   "source": [
    "# Top 10 terms (title, abstarct)"
   ]
  },
  {
   "cell_type": "code",
   "execution_count": 14,
   "metadata": {},
   "outputs": [
    {
     "name": "stdout",
     "output_type": "stream",
     "text": [
      "Fear 344\n",
      "Responses 213\n",
      "Emotional 199\n",
      "Anxiety 150\n",
      "Effects 144\n",
      "Conditioning 135\n",
      "Physiological 124\n",
      "Skin 124\n",
      "Conductance 118\n",
      "Autonomic 117\n"
     ]
    }
   ],
   "source": [
    "s_title_term = [(k,title_term[k]) for k in sorted(title_term, key=title_term.get, reverse=True)]\n",
    "top = 0\n",
    "for k, v in s_title_term:\n",
    "    top += 1\n",
    "    print(k,v)\n",
    "    if(top == 10):\n",
    "        break"
   ]
  },
  {
   "cell_type": "code",
   "execution_count": 15,
   "metadata": {},
   "outputs": [
    {
     "name": "stdout",
     "output_type": "stream",
     "text": [
      "Fear 1694\n",
      "Skin 1537\n",
      "Conductance 1480\n",
      "Responses 1365\n",
      "Emotional 1160\n",
      "Anxiety 948\n",
      "Response 918\n",
      "Study 815\n",
      "Extinction 776\n",
      "Participants 767\n"
     ]
    }
   ],
   "source": [
    "s_abstract_term = [(k,abstract_term[k]) for k in sorted(abstract_term,\n",
    "                                                        key=abstract_term.get,\n",
    "                                                        reverse=True)]\n",
    "top = 0\n",
    "for k, v in s_abstract_term:\n",
    "    top += 1\n",
    "    print(k,v)\n",
    "    if(top == 10):\n",
    "        break"
   ]
  },
  {
   "cell_type": "markdown",
   "metadata": {},
   "source": [
    "# 5-years interval histogram(Jaeyung's)\n",
    " - jaeyung's - counted first appeared year tag\n",
    " - jooyeon's - counted PubDate/Year tag\n",
    "     - suppose jooyeon's data more accurate"
   ]
  },
  {
   "cell_type": "code",
   "execution_count": 9,
   "metadata": {},
   "outputs": [
    {
     "data": {
      "image/png": "[encoded data removed]",
      "text/plain": [
       "<matplotlib.figure.Figure at 0x1cec9b02828>"
      ]
     },
     "metadata": {},
     "output_type": "display_data"
    },
    {
     "name": "stdout",
     "output_type": "stream",
     "text": [
      "OrderedDict([('1950-1955', 0), ('1955-1960', 0), ('1960-1965', 0), ('1965-1970', 4), ('1970-1975', 7), ('1975-1980', 16), ('1980-1985', 26), ('1985-1990', 26), ('1990-1995', 59), ('1995-2000', 52), ('2000-2005', 118), ('2005-2010', 235), ('2010-2015', 314), ('2015-2020', 278)])\n"
     ]
    }
   ],
   "source": [
    "import matplotlib.pyplot as plt\n",
    "import collections\n",
    "import pandas as pd\n",
    "# 5-years interval\n",
    "f_year = collections.OrderedDict()\n",
    "start = 1950\n",
    "count = 0\n",
    "for i in range(1950, 2021):\n",
    "#     print(i, year_count[str(i)])\n",
    "    if(i % 5 == 0) and (i != 1950):\n",
    "        end = i\n",
    "        f_year[str(start)+\"-\"+str(end)] = count\n",
    "        count = 0\n",
    "        start = i\n",
    "    else:\n",
    "        count += year_count[str(i)]\n",
    "        \n",
    "# print(f_year)\n",
    "x = []\n",
    "y = []\n",
    "for k,v in f_year.items():\n",
    "    x.append(k)\n",
    "    y.append(v)\n",
    "    \n",
    "# print(x)\n",
    "# print(y)\n",
    "test = [i for i in range(len(y))]\n",
    "plt.figure(figsize=(15, 4))\n",
    "\n",
    "plt.bar(test, y, align='center', width= 0.5)\n",
    "plt.title(\"A histogram of the number of papers published with 5-year intervals\")\n",
    "plt.xlabel(\"year\")\n",
    "plt.xticks(test, x)\n",
    "plt.ylabel(\"count\")\n",
    "plt.show()\n",
    "\n",
    "print(f_year)"
   ]
  },
  {
   "cell_type": "markdown",
   "metadata": {},
   "source": [
    "# 5-years interval histogram(Jooyeon's)"
   ]
  },
  {
   "attachments": {},
   "cell_type": "markdown",
   "metadata": {},
   "source": [
    "<img src=\"jooyeon1.png\">"
   ]
  },
  {
   "cell_type": "markdown",
   "metadata": {},
   "source": [
    "<img src=\"jooyeon.png\">"
   ]
  }
 ],
 "metadata": {
  "kernelspec": {
   "display_name": "Python 3",
   "language": "python",
   "name": "python3"
  },
  "language_info": {
   "codemirror_mode": {
    "name": "ipython",
    "version": 3
   },
   "file_extension": ".py",
   "mimetype": "text/x-python",
   "name": "python",
   "nbconvert_exporter": "python",
   "pygments_lexer": "ipython3",
   "version": "3.5.0"
  }
 },
 "nbformat": 4,
 "nbformat_minor": 2
}
